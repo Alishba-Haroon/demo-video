{
 "cells": [
  {
   "cell_type": "code",
   "execution_count": null,
   "metadata": {},
   "outputs": [],
   "source": [
    "import pandas as pd\n",
    "from sklearn.preprocessing import StandardScaler\n",
    "import joblib\n",
    "import os\n",
    "\n",
    "# Load the dataset\n",
    "data = pd.read_csv(r'participants_training_dataset.csv')\n",
    "\n",
    "# Encoding categorical features\n",
    "data = pd.get_dummies(data, drop_first=True)\n",
    "\n",
    "# Feature and target separation\n",
    "X = data.drop('Next_Purchase', axis=1)\n",
    "y = data['Next_Purchase']\n",
    "\n",
    "# Ensure the output directory exists\n",
    "os.makedirs('outputs', exist_ok=True)\n",
    "\n",
    "# Save the preprocessed data for further use\n",
    "X.to_csv('outputs/preprocessed_data.csv', index=False)\n",
    "y.to_csv('outputs/target_data.csv', index=False)\n",
    "\n",
    "# Scale the features\n",
    "scaler = StandardScaler()\n",
    "X_scaled = scaler.fit_transform(X)\n",
    "\n",
    "# Save the scaler for future use\n",
    "joblib.dump(scaler, 'outputs/scaler.pkl')\n"
   ]
  }
 ],
 "metadata": {
  "kernelspec": {
   "display_name": "base",
   "language": "python",
   "name": "python3"
  },
  "language_info": {
   "codemirror_mode": {
    "name": "ipython",
    "version": 3
   },
   "file_extension": ".py",
   "mimetype": "text/x-python",
   "name": "python",
   "nbconvert_exporter": "python",
   "pygments_lexer": "ipython3",
   "version": "3.12.4"
  }
 },
 "nbformat": 4,
 "nbformat_minor": 2
}
