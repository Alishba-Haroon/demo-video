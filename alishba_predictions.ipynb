{
 "cells": [
  {
   "cell_type": "code",
   "execution_count": null,
   "metadata": {},
   "outputs": [],
   "source": [
    "import pandas as pd\n",
    "import joblib\n",
    "\n",
    "# Load the test data (testDataset.csv)\n",
    "test_data = pd.read_csv(r'C:\\Users\\WB\\Desktop\\New folder\\participants_test_dataset.csv')\n",
    "\n",
    "# Preprocess the test data (ensure it matches training data features)\n",
    "test_data = pd.get_dummies(test_data)\n",
    "test_data = test_data.reindex(columns=pd.read_csv('outputs/preprocessed_data.csv').columns, fill_value=0)\n",
    "\n",
    "# Load the scaler and model\n",
    "scaler = joblib.load('outputs/scaler.pkl')\n",
    "model = joblib.load('outputs/model.pkl')\n",
    "\n",
    "# Scale the test data\n",
    "test_data_scaled = scaler.transform(test_data)\n",
    "\n",
    "# Make predictions on the test data\n",
    "predictions = model.predict(test_data_scaled)\n",
    "\n",
    "# Save the predictions to a CSV file\n",
    "submission = pd.DataFrame({'User_Key': test_data['User_Key'], 'Next_Purchase': predictions})\n",
    "submission.to_csv('outputs/yourname_PredictionOfNextPurchse_result.csv', index=False)\n"
   ]
  }
 ],
 "metadata": {
  "kernelspec": {
   "display_name": "base",
   "language": "python",
   "name": "python3"
  },
  "language_info": {
   "codemirror_mode": {
    "name": "ipython",
    "version": 3
   },
   "file_extension": ".py",
   "mimetype": "text/x-python",
   "name": "python",
   "nbconvert_exporter": "python",
   "pygments_lexer": "ipython3",
   "version": "3.12.4"
  }
 },
 "nbformat": 4,
 "nbformat_minor": 2
}
